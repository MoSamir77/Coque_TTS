{
 "cells": [
  {
   "cell_type": "code",
   "execution_count": 1,
   "id": "a36d55ec-ce6d-4e8d-b06d-9ddba55f7cbd",
   "metadata": {},
   "outputs": [
    {
     "name": "stdout",
     "output_type": "stream",
     "text": [
      " * Serving Flask app '__main__'\n",
      " * Debug mode: off\n"
     ]
    },
    {
     "name": "stderr",
     "output_type": "stream",
     "text": [
      "WARNING: This is a development server. Do not use it in a production deployment. Use a production WSGI server instead.\n",
      " * Running on http://127.0.0.1:5000\n",
      "Press CTRL+C to quit\n"
     ]
    }
   ],
   "source": [
    "from flask import Flask, request, send_file\n",
    "from gtts import gTTS\n",
    "import os\n",
    "\n",
    "app = Flask(__name__)\n",
    "\n",
    "@app.route('/convert', methods=['POST'])\n",
    "def convert_text_to_speech():\n",
    "    data = request.json\n",
    "    if 'text' not in data:\n",
    "        return {\"error\": \"No text provided\"}, 400\n",
    "    \n",
    "    text = data['text']\n",
    "    \n",
    "    # Convert text to speech\n",
    "    tts = gTTS(text)\n",
    "    \n",
    "    # Save the audio file\n",
    "    audio_file = \"output.mp3\"\n",
    "    tts.save(audio_file)\n",
    "    \n",
    "    # Return the audio file\n",
    "    return send_file(audio_file, as_attachment=True)\n",
    "\n",
    "if __name__ == \"__main__\":\n",
    "    app.run(port=5000)"
   ]
  },
  {
   "cell_type": "code",
   "execution_count": null,
   "id": "caa04849-3c6b-4680-b055-4efc2d2de75f",
   "metadata": {},
   "outputs": [],
   "source": []
  }
 ],
 "metadata": {
  "kernelspec": {
   "display_name": "Python 3 (ipykernel)",
   "language": "python",
   "name": "python3"
  },
  "language_info": {
   "codemirror_mode": {
    "name": "ipython",
    "version": 3
   },
   "file_extension": ".py",
   "mimetype": "text/x-python",
   "name": "python",
   "nbconvert_exporter": "python",
   "pygments_lexer": "ipython3",
   "version": "3.10.0"
  }
 },
 "nbformat": 4,
 "nbformat_minor": 5
}
